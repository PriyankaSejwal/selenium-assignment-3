{
 "cells": [
  {
   "cell_type": "code",
   "execution_count": 59,
   "metadata": {},
   "outputs": [],
   "source": [
    "#importing all the necessary libraries\n",
    "import selenium\n",
    "import pandas as pd\n",
    "from selenium import webdriver\n",
    "from selenium.common.exceptions import NoSuchElementException\n",
    "from selenium.webdriver.common.keys import Keys\n",
    "import time"
   ]
  },
  {
   "cell_type": "code",
   "execution_count": 62,
   "metadata": {},
   "outputs": [],
   "source": [
    "list=['fruits','cars','machine learning']\n",
    "for i in list:\n",
    "    #connecting to the webdriver\n",
    "    driver=webdriver.Chrome(executable_path= r'C:\\Users\\Priyanka\\Documents\\chromedriver.exe')\n",
    "    driver.get('https://images.google.com/')\n",
    "    box=driver.find_element_by_xpath('//*[@id=\"sbtc\"]/div/div[2]/input')\n",
    "    box.send_keys(i)\n",
    "    box.send_keys(Keys.ENTER)\n",
    "    #To keep scrolling down until images are exhausted\n",
    "    last=driver.execute_script('return document.body.scrollHeight')\n",
    "    while True:\n",
    "        driver.execute_script('window.scrollTo(0,document.body.scrollHeight)')\n",
    "        time.sleep(2)\n",
    "        new=driver.execute_script('return document.body.scrollHeight')\n",
    "        try:\n",
    "            driver.find_element_by_xpath('//*[@id=\"islmp\"]/div/div/div/div/div[5]/input').click()\n",
    "            time.sleep(2)\n",
    "        except:\n",
    "            pass\n",
    "        if new==last:\n",
    "            break\n",
    "            \n",
    "        last=new\n",
    "        for j in range(0,100):\n",
    "            try:\n",
    "                driver.find_element_by_xpath('//*[@id=\"islrg\"]/div[1]/div['+str(j)+']/a[1]/div[1]/img').screenshot(r'C:\\Users\\Priyanka\\Downloads\\selenium images\\('+str(i)+') ('+str(j)+').png')\n",
    "            except:\n",
    "                pass\n",
    "    driver.close()"
   ]
  },
  {
   "cell_type": "code",
   "execution_count": null,
   "metadata": {},
   "outputs": [],
   "source": []
  }
 ],
 "metadata": {
  "kernelspec": {
   "display_name": "Python 3",
   "language": "python",
   "name": "python3"
  },
  "language_info": {
   "codemirror_mode": {
    "name": "ipython",
    "version": 3
   },
   "file_extension": ".py",
   "mimetype": "text/x-python",
   "name": "python",
   "nbconvert_exporter": "python",
   "pygments_lexer": "ipython3",
   "version": "3.8.3"
  }
 },
 "nbformat": 4,
 "nbformat_minor": 4
}
